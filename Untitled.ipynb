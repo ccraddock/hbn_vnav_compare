{
 "cells": [
  {
   "cell_type": "code",
   "execution_count": 16,
   "metadata": {
    "collapsed": true
   },
   "outputs": [],
   "source": [
    "import boto3\n",
    "import re"
   ]
  },
  {
   "cell_type": "code",
   "execution_count": 3,
   "metadata": {
    "collapsed": true
   },
   "outputs": [],
   "source": [
    "s3 = boto3.resource('s3')\n",
    "my_bucket = s3.Bucket('fcp-indi')"
   ]
  },
  {
   "cell_type": "code",
   "execution_count": 7,
   "metadata": {
    "collapsed": false
   },
   "outputs": [],
   "source": [
    "participant_object = s3.Object('fcp-indi', 'data/Projects/HBN/MRI/Site-CBIC/participants.tsv')\n",
    "participant_data = participant_object.get()['Body'].read().decode('utf-8')"
   ]
  },
  {
   "cell_type": "code",
   "execution_count": 8,
   "metadata": {
    "collapsed": false
   },
   "outputs": [
    {
     "name": "stdout",
     "output_type": "stream",
     "text": [
      "participant_id,release_number,Bold Sequence\n",
      "sub-NDARAM873GAC.tar.gz,R3,abcd\n",
      "sub-NDARAV519RND.tar.gz,R3,abcd\n",
      "sub-NDARAY461TZZ.tar.gz,R3,abcd\n",
      "sub-NDARBT640EBN.tar.gz,R3,abcd\n",
      "sub-NDARBU532YXZ.tar.gz,R3,abcd\n",
      "sub-NDARCC140AAK.tar.gz,R3,abcd\n",
      "sub-NDARCG947ZC0.tar.gz,R3,abcd\n",
      "sub-NDARCP057XJB.tar.gz,R3,abcd\n",
      "sub-NDARDY714NV9.tar.gz,R3,abcd\n",
      "sub-NDAREC542MH3.tar.gz,R3,abcd\n",
      "sub-NDAREG930XPP.tar.gz,R3,cmrr\n",
      "sub-NDAREK255DEE.tar.gz,R3,cmrr\n",
      "sub-NDAREK549XUQ.tar.gz,R3,abcd\n",
      "sub-NDAREM155HGQ.tar.gz,R3,abcd\n",
      "sub-NDAREU591YYA.tar.gz,R3,abcd\n",
      "sub-NDARFB757VY3.tar.gz,R3,abcd\n",
      "sub-NDARFG027BT5.tar.gz,R3,abcd\n",
      "sub-NDARFG757CEU.tar.gz,R3,abcd\n",
      "sub-NDARFJ803JF7.tar.gz,R3,abcd\n",
      "sub-NDARFP909LY1.tar.gz,R3,abcd\n",
      "sub-NDARFW140WFX.tar.gz,R3,NA\n",
      "sub-NDARGA563XVW.tar.gz,R3,abcd\n",
      "sub-NDARGC471KD1.tar.gz,R3,abcd\n",
      "sub-NDARGK059JW7.tar.gz,R3,abcd\n",
      "sub-NDARGX173AC3.tar.gz,R3,abcd\n",
      "sub-NDARHE199NGL.tar.gz,R3,abcd\n",
      "sub-NDARHR763RB4.tar.gz,R3,abcd\n",
      "sub-NDARJF579EH9.tar.gz,R3,abcd\n",
      "sub-NDARJH652HGG.tar.gz,R3,abcd\n",
      "sub-NDARJJ343TR0.tar.gz,R3,abcd\n",
      "sub-NDARJU787GF5.tar.gz,R3,abcd\n",
      "sub-NDARJY747PRJ.tar.gz,R3,abcd\n",
      "sub-NDARKA331XEL.tar.gz,R3,abcd\n",
      "sub-NDARKG460MWV.tar.gz,R3,cmrr\n",
      "sub-NDARKG594WKT.tar.gz,R3,abcd\n",
      "sub-NDARLH881FBD.tar.gz,R3,abcd\n",
      "sub-NDARLK963HXP.tar.gz,R3,abcd\n",
      "sub-NDARLP507NKW.tar.gz,R3,abcd\n",
      "sub-NDARLZ745EUN.tar.gz,R3,abcd\n",
      "sub-NDARMU161LHN.tar.gz,R3,abcd\n",
      "sub-NDARMZ518UH1.tar.gz,R3,abcd\n",
      "sub-NDARNA335GX2.tar.gz,R3,abcd\n",
      "sub-NDARNA768ZAK.tar.gz,R3,abcd\n",
      "sub-NDARNP626EM0.tar.gz,R3,abcd\n",
      "sub-NDARPJ832WL6.tar.gz,R3,abcd\n",
      "sub-NDARRC355BM6.tar.gz,R3,abcd\n",
      "sub-NDARRM586XYL.tar.gz,R3,abcd\n",
      "sub-NDARTC802PGL.tar.gz,R3,abcd\n",
      "sub-NDARTW958NXU.tar.gz,R3,abcd\n",
      "sub-NDARTY636BWN.tar.gz,R3,NA\n",
      "sub-NDARUF152ARR.tar.gz,R3,abcd\n",
      "sub-NDARUV621PB0.tar.gz,R3,NA\n",
      "sub-NDARVJ685ZW5.tar.gz,R3,abcd\n",
      "sub-NDARVL498YX5.tar.gz,R3,cmrr\n",
      "sub-NDARVP953BBF.tar.gz,R3,abcd\n",
      "sub-NDARVV765ETR.tar.gz,R3,NA\n",
      "sub-NDARWG911DZG.tar.gz,R3,abcd\n",
      "sub-NDARWH778CPD.tar.gz,R3,abcd\n",
      "sub-NDARWJ621JRZ.tar.gz,R3,abcd\n",
      "sub-NDARWL758PAM.tar.gz,R3,abcd\n",
      "sub-NDARWM632AFC.tar.gz,R3,abcd\n",
      "sub-NDARWM835BR8.tar.gz,R3,abcd\n",
      "sub-NDARWV487HE0.tar.gz,R3,abcd\n",
      "sub-NDARWV625CRP.tar.gz,R3,abcd\n",
      "sub-NDARWV952EZT.tar.gz,R3,abcd\n",
      "sub-NDARXM571XCC.tar.gz,R3,abcd\n",
      "sub-NDARXV094ZHH.tar.gz,R3,abcd\n",
      "sub-NDARYF085LZQ.tar.gz,R3,abcd\n",
      "sub-NDARZH930XTP.tar.gz,R3,abcd\n",
      "sub-NDARZN677EYE.tar.gz,R3,abcd\n",
      "sub-NDARZT096AUP.tar.gz,R3,abcd\n",
      "\n"
     ]
    }
   ],
   "source": [
    "print(participant_data)"
   ]
  },
  {
   "cell_type": "code",
   "execution_count": 13,
   "metadata": {
    "collapsed": false
   },
   "outputs": [],
   "source": [
    "image_list = []\n",
    "for object in my_bucket.objects.filter(Prefix='data/Projects/HBN/MRI/Site-CBIC'):\n",
    "    if 'derivatives' not in object.key and 't1w' in object.key.lower() and 'nii.gz' in object.key:\n",
    "        image_list.append(object.key)"
   ]
  },
  {
   "cell_type": "code",
   "execution_count": 33,
   "metadata": {
    "collapsed": false
   },
   "outputs": [],
   "source": [
    "image_dict = {}\n",
    "for image in image_list:\n",
    "    pt_match = re.search('sub-\\w*', image)\n",
    "    if pt_match:\n",
    "        pt_id = pt_match.group(0)\n",
    "        if pt_id not in image_dict:\n",
    "            image_dict[pt_id] = {}\n",
    "        if 'acq-HCP'in image:\n",
    "            image_dict[pt_id]['acq-HCP'] = image\n",
    "        elif 'acq-VNavNorm' in image:\n",
    "            image_dict[pt_id]['acq-VNavNorm'] = image\n",
    "        elif 'acq-VNav' in image:\n",
    "            image_dict[pt_id]['acq-VNav'] = image\n",
    "\n",
    "out_lines = []\n",
    "for pt, dt in image_dict.items():\n",
    "    if 'acq-HCP' in dt and 'acq-VNav' in dt and 'acq-VNavNorm' in dt:\n",
    "        out_lines.append([pt, dt['acq-HCP'], dt['acq-VNav'], dt['acq-VNavNorm']])"
   ]
  },
  {
   "cell_type": "code",
   "execution_count": 39,
   "metadata": {
    "collapsed": false
   },
   "outputs": [],
   "source": [
    "with open('mri_vnav_hcp.tsv', 'w') as ofd:\n",
    "    for line in out_lines:\n",
    "        ofd.write('\\t'.join(line)+'\\n')"
   ]
  },
  {
   "cell_type": "code",
   "execution_count": 38,
   "metadata": {
    "collapsed": true
   },
   "outputs": [],
   "source": [
    "ofd.write?"
   ]
  },
  {
   "cell_type": "code",
   "execution_count": 40,
   "metadata": {
    "collapsed": false
   },
   "outputs": [
    {
     "name": "stdout",
     "output_type": "stream",
     "text": [
      "doc1 doc2 doc3\n"
     ]
    }
   ],
   "source": [
    "list=['doc1', 'doc2', 'doc3']\n",
    "print(' '.join(list))\n"
   ]
  },
  {
   "cell_type": "code",
   "execution_count": null,
   "metadata": {
    "collapsed": true
   },
   "outputs": [],
   "source": [
    " command=\"storescu \"+ip+\" 4443 \"+\"'\"+\" \".join(images)+\"'\""
   ]
  }
 ],
 "metadata": {
  "anaconda-cloud": {},
  "kernelspec": {
   "display_name": "Python [conda env:py3]",
   "language": "python",
   "name": "conda-env-py3-py"
  },
  "language_info": {
   "codemirror_mode": {
    "name": "ipython",
    "version": 3
   },
   "file_extension": ".py",
   "mimetype": "text/x-python",
   "name": "python",
   "nbconvert_exporter": "python",
   "pygments_lexer": "ipython3",
   "version": "3.6.1"
  }
 },
 "nbformat": 4,
 "nbformat_minor": 1
}
